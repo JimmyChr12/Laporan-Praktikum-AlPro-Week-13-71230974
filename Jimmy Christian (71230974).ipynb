{
 "cells": [
  {
   "cell_type": "code",
   "execution_count": 5,
   "id": "6203462e",
   "metadata": {
    "scrolled": false
   },
   "outputs": [
    {
     "name": "stdout",
     "output_type": "stream",
     "text": [
      "Masukkan jumlah kategori: 3\n",
      "Masukkan nama kategori: qw\n",
      "Masukkan 5 nama aplikasi di kategori qw\n",
      "Nama Aplikasi: q\n",
      "Nama Aplikasi: a\n",
      "Nama Aplikasi: z\n",
      "Nama Aplikasi: x\n",
      "Nama Aplikasi: s\n",
      "Masukkan nama kategori: qwe\n",
      "Masukkan 5 nama aplikasi di kategori qwe\n",
      "Nama Aplikasi: q\n",
      "Nama Aplikasi: w\n",
      "Nama Aplikasi: e\n",
      "Nama Aplikasi: r\n",
      "Nama Aplikasi: t\n",
      "Masukkan nama kategori: qwer\n",
      "Masukkan 5 nama aplikasi di kategori qwer\n",
      "Nama Aplikasi: q\n",
      "Nama Aplikasi: z\n",
      "Nama Aplikasi: j\n",
      "Nama Aplikasi: k\n",
      "Nama Aplikasi: l\n",
      "Daftar kategori beserta aplikasinya:\n",
      "{'qw': ['q', 'a', 'z', 'x', 's'], 'qwe': ['q', 'w', 'e', 'r', 't'], 'qwer': ['q', 'z', 'j', 'k', 'l']}\n",
      "Aplikasi yang ada dari masing-masing kategori:\n",
      "[{'q', 's', 'a', 'z', 'x'}, {'q', 't', 'r', 'e', 'w'}, {'q', 'j', 'l', 'z', 'k'}]\n",
      "Daftar aplikasi yang hanya ada pada satu kategori:\n",
      "{'j', 's', 't', 'l', 'a', 'r', 'e', 'w', 'k', 'x'}\n",
      "Daftar aplikasi yang ada pada dua kategori:\n",
      "['z']\n",
      "Daftar aplikasi yang ada pada tiga kategori:\n",
      "['q']\n"
     ]
    }
   ],
   "source": [
    "kategori = int(input(\"Masukkan jumlah kategori: \"))\n",
    "apk = []\n",
    "pasangan = {}\n",
    "daftarapk = []\n",
    "dua = []\n",
    "tiga = []\n",
    "semuaapk = []\n",
    "\n",
    "for i in range (kategori):\n",
    "    namakategori = input(\"Masukkan nama kategori: \")\n",
    "    print (f\"Masukkan 5 nama aplikasi di kategori {namakategori}\")\n",
    "    for j in range (5):\n",
    "        apk1 = input(\"Nama Aplikasi: \")\n",
    "        apk.append(apk1)\n",
    "    pasangan[namakategori] = apk\n",
    "    setapk = set(apk)\n",
    "    daftarapk.append(setapk)\n",
    "    apk = []\n",
    "print (f\"Daftar kategori beserta aplikasinya:\\n{pasangan}\")\n",
    "print (f\"Aplikasi yang ada dari masing-masing kategori:\\n{daftarapk}\")\n",
    "\n",
    "for j in range(len(daftarapk)):\n",
    "    semuaapk.extend(daftarapk[j])\n",
    "for k in semuaapk:\n",
    "    if semuaapk.count(k) == 2:\n",
    "        if k not in dua:\n",
    "            dua.append(k)\n",
    "    elif semuaapk.count(k) == 3:\n",
    "        if k not in tiga:\n",
    "            tiga.append(k)\n",
    "satu = set(semuaapk) - set(dua) - set(tiga)\n",
    "print (f\"Daftar aplikasi yang hanya ada pada satu kategori:\\n{satu}\")\n",
    "if len(dua) != 0:   \n",
    "    print (f\"Daftar aplikasi yang ada pada dua kategori:\\n{dua}\")\n",
    "else:\n",
    "    print (\"Tidak ada aplikasi yang sama dari dua kategori\")\n",
    "if kategori > 2:\n",
    "    if len(tiga) != 0:    \n",
    "        print (f\"Daftar aplikasi yang ada pada tiga kategori:\\n{tiga}\")\n",
    "    else:\n",
    "        print (\"Tidak ada aplikasi yang sama dari tiga kategori\")"
   ]
  },
  {
   "cell_type": "code",
   "execution_count": 2,
   "id": "e9954408",
   "metadata": {},
   "outputs": [
    {
     "name": "stdout",
     "output_type": "stream",
     "text": [
      "List sebelum konversi menjadi set:  [1, '1', 1, 2, '3', 3, 5]\n",
      "List Sesudah konversi menjadi set:  {1, 2, 3, '3', 5, '1'}\n",
      "\n",
      "Set sebelum konversi menjadi list:  {1, 2, 3, 4, 5, 'b', 'c', 'a', 'd'}\n",
      "Set Sesudah konversi menjadi list:  [1, 2, 3, 4, 5, 'b', 'c', 'a', 'd']\n",
      "\n",
      "Tuple sebelum konversi menjadi set:  ('z', 'x', 'c', 5, 4, 6, 3, 'x', 3, 1, 7)\n",
      "Tuple Sesudah konversi menjadi set:  {1, 3, 4, 5, 'c', 6, 7, 'z', 'x'}\n",
      "\n",
      "Set sebelum konversi menjadi tuple:  {0.5, 1, 2, 3, 4, 'o', 6, 'z', '0.5', 'x'}\n",
      "Set Sesudah konversi menjadi tuple:  (0.5, 1, 2, 3, 4, 'o', 6, 'z', '0.5', 'x')\n"
     ]
    }
   ],
   "source": [
    "listtoset = [1,\"1\", 1, 2, \"3\", 3, 5]\n",
    "listtoset1 = set(listtoset)\n",
    "print (\"List sebelum konversi menjadi set: \", listtoset)\n",
    "print (\"List Sesudah konversi menjadi set: \", listtoset1)\n",
    "\n",
    "print ()\n",
    "\n",
    "settolist = {5, \"a\", 4, \"b\", 3, \"c\", 2, \"d\", 5, 5, 5, 1}\n",
    "settolist1 = list(settolist)\n",
    "print (\"Set sebelum konversi menjadi list: \", settolist)\n",
    "print (\"Set Sesudah konversi menjadi list: \", settolist1)\n",
    "\n",
    "print ()\n",
    "\n",
    "tupletoset = (\"z\", \"x\", \"c\", 5, 4, 6, 3, \"x\", 3, 1, 7)\n",
    "tupletoset1 = set(tupletoset)\n",
    "print (\"Tuple sebelum konversi menjadi set: \", tupletoset)\n",
    "print (\"Tuple Sesudah konversi menjadi set: \", tupletoset1)\n",
    "\n",
    "print ()\n",
    "\n",
    "settotuple = {\"0.5\", \"x\", \"z\", 0.5, 4, 6, 3, \"o\", 2, 3, 1}\n",
    "settotuple1 = tuple(settotuple)\n",
    "print (\"Set sebelum konversi menjadi tuple: \", settotuple)\n",
    "print (\"Set Sesudah konversi menjadi tuple: \", settotuple1)\n"
   ]
  },
  {
   "cell_type": "code",
   "execution_count": 4,
   "id": "03e9d29f",
   "metadata": {
    "scrolled": false
   },
   "outputs": [
    {
     "name": "stdout",
     "output_type": "stream",
     "text": [
      "Masukkan file pertama: romeo.txt\n",
      "Masukkan file kedua: romeo-full.txt\n",
      "File tidak ditemukan / File tidak bisa terbaca\n"
     ]
    }
   ],
   "source": [
    "try:\n",
    "    file1 = input(\"Masukkan file pertama: \")\n",
    "    file2 = input(\"Masukkan file kedua: \")\n",
    "    handle1 = open(file1).readlines()\n",
    "    handle2 = open(file2).readlines()\n",
    "    kata1 = set()\n",
    "    kata2 = set()\n",
    "    for i in range (len(handle1)):\n",
    "        baris1 = (handle1[i].lower().split())\n",
    "        for j in baris1:\n",
    "            kata1.add(j)\n",
    "\n",
    "    for j in range (len(handle2)):\n",
    "        baris2 = (handle2[j].lower().split())\n",
    "        for k in baris2:\n",
    "            kata2.add(k)\n",
    "    gabungan = kata1 & kata2\n",
    "    print (f\"Kata-kata yang ada pada kedua file\\n{gabungan}\")\n",
    "except:\n",
    "    print (\"File tidak ditemukan / File tidak bisa terbaca\")\n",
    "    pass"
   ]
  }
 ],
 "metadata": {
  "kernelspec": {
   "display_name": "Python 3 (ipykernel)",
   "language": "python",
   "name": "python3"
  },
  "language_info": {
   "codemirror_mode": {
    "name": "ipython",
    "version": 3
   },
   "file_extension": ".py",
   "mimetype": "text/x-python",
   "name": "python",
   "nbconvert_exporter": "python",
   "pygments_lexer": "ipython3",
   "version": "3.11.5"
  }
 },
 "nbformat": 4,
 "nbformat_minor": 5
}
